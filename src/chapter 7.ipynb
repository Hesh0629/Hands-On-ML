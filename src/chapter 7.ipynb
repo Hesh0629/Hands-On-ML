{
 "cells": [
  {
   "cell_type": "code",
   "execution_count": 20,
   "id": "a7a001bf",
   "metadata": {
    "ExecuteTime": {
     "end_time": "2022-03-30T07:44:13.733389Z",
     "start_time": "2022-03-30T07:44:13.722426Z"
    }
   },
   "outputs": [],
   "source": [
    "# 파이썬 ≥3.5 필수\n",
    "import sys\n",
    "assert sys.version_info >= (3, 5)\n",
    "\n",
    "# 사이킷런 ≥0.20 필수\n",
    "import sklearn\n",
    "assert sklearn.__version__ >= \"0.20\"\n",
    "\n",
    "# 공통 모듈 임포트\n",
    "import numpy as np\n",
    "import os\n",
    "\n",
    "# 노트북 실행 결과를 동일하게 유지하기 위해\n",
    "np.random.seed(42)\n",
    "\n",
    "# 깔끔한 그래프 출력을 위해\n",
    "%matplotlib inline\n",
    "import matplotlib as mpl\n",
    "import matplotlib.pyplot as plt\n",
    "\n",
    "mpl.rc('axes', labelsize=14)\n",
    "mpl.rc('xtick', labelsize=12)\n",
    "mpl.rc('ytick', labelsize=12)\n",
    "plt.style.use('default')"
   ]
  },
  {
   "cell_type": "markdown",
   "id": "75713db2",
   "metadata": {},
   "source": [
    "# 앙상블 학습과 랜덤 포레스트\n",
    "집단 지성은 위대하다. 따라서 여러 예측기들로부터 예측을 수집하면 더 좋은 예측을 할 수 있다.  \n",
    "실제로 예측기 각자가 랜덤 추측보다 조금 좋은 성능을 내더라도 합쳐놓으면 높은 정확도를 가지게 된다.  \n",
    "이를 ***앙상블 학습*** 이라고 하며 여러 DecisionTree를 앙상블 방식으로 이용하는 방식을 ***랜덤 포레스트*** 라고 부른다.  \n",
    "밑의 예시를 통하여 투표 기반 분류기의 성능을 확인해보자"
   ]
  },
  {
   "cell_type": "code",
   "execution_count": 21,
   "id": "54b23690",
   "metadata": {
    "ExecuteTime": {
     "end_time": "2022-03-30T07:44:13.748339Z",
     "start_time": "2022-03-30T07:44:13.734386Z"
    }
   },
   "outputs": [],
   "source": [
    "from sklearn.model_selection import train_test_split\n",
    "from sklearn.datasets import make_moons\n",
    "\n",
    "from sklearn.ensemble import RandomForestClassifier\n",
    "from sklearn.ensemble import VotingClassifier\n",
    "from sklearn.linear_model import LogisticRegression\n",
    "from sklearn.svm import SVC\n",
    "\n",
    "X, y = make_moons(n_samples=500, noise=0.30, random_state=42)\n",
    "X_train, X_test, y_train, y_test = train_test_split(X, y, random_state=42)\n",
    "\n",
    "log_clf = LogisticRegression(solver=\"lbfgs\", random_state=42)\n",
    "rnd_clf = RandomForestClassifier(n_estimators=100, random_state=42)\n",
    "svm_clf = SVC(gamma=\"scale\", probability=True, random_state=42)\n",
    "\n",
    "voting_clf = VotingClassifier(estimators=[('lr', log_clf), ('rf', rnd_clf),\n",
    "                                          ('svc', svm_clf)],\n",
    "                              voting='soft')\n",
    "\n",
    "# 모든 분류기가 클래스의 확률을 예측할 수 있다면 (predict_proba()가 있다면) 개별 분류기의 예측을 평규내어\n",
    "# 가장 높은 클래스를 예측할 수 있다. 이를 간접 투표 (soft voting)이라고 부르고 성능이 직접 투표보다 높다."
   ]
  },
  {
   "cell_type": "code",
   "execution_count": 22,
   "id": "7dc046c2",
   "metadata": {
    "ExecuteTime": {
     "end_time": "2022-03-30T07:44:13.903819Z",
     "start_time": "2022-03-30T07:44:13.749335Z"
    }
   },
   "outputs": [
    {
     "data": {
      "text/plain": [
       "VotingClassifier(estimators=[('lr', LogisticRegression(random_state=42)),\n",
       "                             ('rf', RandomForestClassifier(random_state=42)),\n",
       "                             ('svc', SVC(probability=True, random_state=42))],\n",
       "                 voting='soft')"
      ]
     },
     "execution_count": 22,
     "metadata": {},
     "output_type": "execute_result"
    }
   ],
   "source": [
    "voting_clf.fit(X_train, y_train)"
   ]
  },
  {
   "cell_type": "code",
   "execution_count": 23,
   "id": "9b627e12",
   "metadata": {
    "ExecuteTime": {
     "end_time": "2022-03-30T07:44:14.184878Z",
     "start_time": "2022-03-30T07:44:13.905812Z"
    }
   },
   "outputs": [
    {
     "name": "stdout",
     "output_type": "stream",
     "text": [
      "LogisticRegression 0.864\n",
      "RandomForestClassifier 0.896\n",
      "SVC 0.896\n",
      "VotingClassifier 0.92\n"
     ]
    }
   ],
   "source": [
    "from sklearn.metrics import accuracy_score\n",
    "\n",
    "for clf in (log_clf, rnd_clf, svm_clf, voting_clf):\n",
    "    clf.fit(X_train, y_train)\n",
    "    y_pred = clf.predict(X_test)\n",
    "    print(clf.__class__.__name__, accuracy_score(y_test, y_pred))"
   ]
  },
  {
   "cell_type": "markdown",
   "id": "19e0251f",
   "metadata": {},
   "source": [
    "## 배깅과 페이스팅\n",
    "같은 알고리즘을 지닌 다수의 분류기들을 훈련 셋의 서브셋을 무작위로 구성하여 다르게 학습시키는 방식이 있다.  \n",
    "중복을 허용하면 ***배깅 (bagging, bootstrap aggregating, bootstrapping)***  \n",
    "중복을 허용하지 않으면 ***페이스팅 (pasting)*** 이라고 한다.  \n",
    "모든 예측기가 훈련을 마치면 모든 예측기의 예측을 모아서 새로운 샘플에 대한 예측을 만든다.  \n",
    "수집 함수는 분류 문제의 경우 통계적 최빈값 (statistical mode)이고 회귀의 경우에는 평균을 계산한다.  \n",
    "개별 예측기는 원본 훈련 셋으로 훈련한 것보다 편향이 훨씬 많이 되어있지만 수집 함수를 통과하면 편향과 분산이 감소한다.  "
   ]
  },
  {
   "cell_type": "code",
   "execution_count": 24,
   "id": "b8879e27",
   "metadata": {
    "ExecuteTime": {
     "end_time": "2022-03-30T07:44:14.466935Z",
     "start_time": "2022-03-30T07:44:14.186877Z"
    }
   },
   "outputs": [
    {
     "name": "stdout",
     "output_type": "stream",
     "text": [
      "0.904\n"
     ]
    }
   ],
   "source": [
    "from sklearn.ensemble import BaggingClassifier\n",
    "from sklearn.tree import DecisionTreeClassifier\n",
    "\n",
    "bag_clf = BaggingClassifier(DecisionTreeClassifier(),\n",
    "                            n_estimators=500,\n",
    "                            max_samples=100,\n",
    "                            bootstrap=True,\n",
    "                            n_jobs=-1)\n",
    "bag_clf.fit(X_train, y_train)\n",
    "y_pred = bag_clf.predict(X_test)\n",
    "print(accuracy_score(y_test, y_pred))"
   ]
  },
  {
   "cell_type": "markdown",
   "id": "3f176580",
   "metadata": {},
   "source": [
    "배깅을 사용하면 어떤 샘플은 여러 번 이용되고, 어떤 샘플을 이용되지 않을 수 있다.  \n",
    "중복을 허용하면 훈련 셋 m개의 샘플 중 대략 63% 정도만 샘플링이 된다.  \n",
    "선택되지 않은 남은 37%를 ***oob (out-of-bag)*** 라고 부른다.  \n",
    "따라서 따로 검증 셋을 만들지 않고도 oob를 이용하여 쉽게 모델을 평가할 수 있다."
   ]
  },
  {
   "cell_type": "code",
   "execution_count": 25,
   "id": "69cbf2f1",
   "metadata": {
    "ExecuteTime": {
     "end_time": "2022-03-30T07:44:14.855648Z",
     "start_time": "2022-03-30T07:44:14.467932Z"
    }
   },
   "outputs": [
    {
     "data": {
      "text/plain": [
       "0.896"
      ]
     },
     "execution_count": 25,
     "metadata": {},
     "output_type": "execute_result"
    }
   ],
   "source": [
    "bag_clf = BaggingClassifier(DecisionTreeClassifier(),\n",
    "                            n_estimators=500,\n",
    "                            bootstrap=True,\n",
    "                            n_jobs=-1, # 모든 CPU 코어를 이용하여 훈련을 진행한다.\n",
    "                            oob_score=True)\n",
    "bag_clf.fit(X_train, y_train)\n",
    "bag_clf.oob_score_"
   ]
  },
  {
   "cell_type": "code",
   "execution_count": 26,
   "id": "eac922ed",
   "metadata": {
    "ExecuteTime": {
     "end_time": "2022-03-30T07:44:15.008138Z",
     "start_time": "2022-03-30T07:44:14.857641Z"
    }
   },
   "outputs": [
    {
     "data": {
      "text/plain": [
       "0.904"
      ]
     },
     "execution_count": 26,
     "metadata": {},
     "output_type": "execute_result"
    }
   ],
   "source": [
    "from sklearn.metrics import accuracy_score\n",
    "\n",
    "y_pred = bag_clf.predict(X_test)\n",
    "accuracy_score(y_test, y_pred)"
   ]
  },
  {
   "cell_type": "markdown",
   "id": "0e154d82",
   "metadata": {},
   "source": [
    "oob 샘플에 대한 DecisionFunction의 값도 oob_dicision_function_ 변수에서 확인할 수 있다.  \n",
    "이 경우, 결정 함수는 각 훈렴 샘플의 클래스 확률을 반환한다. (predict_proba()를 가지고 있기 때문)"
   ]
  },
  {
   "cell_type": "code",
   "execution_count": 27,
   "id": "31238bb6",
   "metadata": {
    "ExecuteTime": {
     "end_time": "2022-03-30T07:44:15.023088Z",
     "start_time": "2022-03-30T07:44:15.009135Z"
    }
   },
   "outputs": [
    {
     "data": {
      "text/plain": [
       "array([[0.43069307, 0.56930693],\n",
       "       [0.40677966, 0.59322034],\n",
       "       [1.        , 0.        ],\n",
       "       [0.        , 1.        ],\n",
       "       [0.        , 1.        ],\n",
       "       [0.05050505, 0.94949495],\n",
       "       [0.37209302, 0.62790698],\n",
       "       [0.01470588, 0.98529412],\n",
       "       [0.99411765, 0.00588235],\n",
       "       [0.97311828, 0.02688172],\n",
       "       [0.72959184, 0.27040816],\n",
       "       [0.00555556, 0.99444444],\n",
       "       [0.77894737, 0.22105263],\n",
       "       [0.8       , 0.2       ],\n",
       "       [0.97727273, 0.02272727],\n",
       "       [0.04945055, 0.95054945],\n",
       "       [0.00518135, 0.99481865],\n",
       "       [0.97740113, 0.02259887],\n",
       "       [0.9040404 , 0.0959596 ],\n",
       "       [1.        , 0.        ],\n",
       "       [0.02824859, 0.97175141],\n",
       "       [0.33142857, 0.66857143],\n",
       "       [0.91891892, 0.08108108],\n",
       "       [1.        , 0.        ],\n",
       "       [0.97087379, 0.02912621],\n",
       "       [0.        , 1.        ],\n",
       "       [1.        , 0.        ],\n",
       "       [1.        , 0.        ],\n",
       "       [0.00512821, 0.99487179],\n",
       "       [0.62244898, 0.37755102],\n",
       "       [0.        , 1.        ],\n",
       "       [1.        , 0.        ],\n",
       "       [0.00546448, 0.99453552],\n",
       "       [0.        , 1.        ],\n",
       "       [0.15217391, 0.84782609],\n",
       "       [1.        , 0.        ],\n",
       "       [0.        , 1.        ],\n",
       "       [0.35393258, 0.64606742],\n",
       "       [0.        , 1.        ],\n",
       "       [1.        , 0.        ],\n",
       "       [0.25      , 0.75      ],\n",
       "       [0.40804598, 0.59195402],\n",
       "       [1.        , 0.        ],\n",
       "       [1.        , 0.        ],\n",
       "       [0.        , 1.        ],\n",
       "       [1.        , 0.        ],\n",
       "       [1.        , 0.        ],\n",
       "       [0.02673797, 0.97326203],\n",
       "       [1.        , 0.        ],\n",
       "       [0.01129944, 0.98870056],\n",
       "       [0.98958333, 0.01041667],\n",
       "       [0.9244186 , 0.0755814 ],\n",
       "       [0.98830409, 0.01169591],\n",
       "       [0.96610169, 0.03389831],\n",
       "       [0.        , 1.        ],\n",
       "       [0.06077348, 0.93922652],\n",
       "       [0.99459459, 0.00540541],\n",
       "       [0.        , 1.        ],\n",
       "       [0.        , 1.        ],\n",
       "       [0.01142857, 0.98857143],\n",
       "       [0.99481865, 0.00518135],\n",
       "       [0.84293194, 0.15706806],\n",
       "       [0.40609137, 0.59390863],\n",
       "       [1.        , 0.        ],\n",
       "       [0.        , 1.        ],\n",
       "       [0.72625698, 0.27374302],\n",
       "       [1.        , 0.        ],\n",
       "       [1.        , 0.        ],\n",
       "       [0.8121547 , 0.1878453 ],\n",
       "       [1.        , 0.        ],\n",
       "       [0.60451977, 0.39548023],\n",
       "       [0.11656442, 0.88343558],\n",
       "       [0.65      , 0.35      ],\n",
       "       [0.91794872, 0.08205128],\n",
       "       [0.        , 1.        ],\n",
       "       [0.27118644, 0.72881356],\n",
       "       [0.84895833, 0.15104167],\n",
       "       [1.        , 0.        ],\n",
       "       [0.        , 1.        ],\n",
       "       [1.        , 0.        ],\n",
       "       [0.00510204, 0.99489796],\n",
       "       [0.07784431, 0.92215569],\n",
       "       [0.0212766 , 0.9787234 ],\n",
       "       [0.28735632, 0.71264368],\n",
       "       [1.        , 0.        ],\n",
       "       [0.        , 1.        ],\n",
       "       [0.82608696, 0.17391304],\n",
       "       [0.        , 1.        ],\n",
       "       [0.        , 1.        ],\n",
       "       [0.        , 1.        ],\n",
       "       [0.2393617 , 0.7606383 ],\n",
       "       [1.        , 0.        ],\n",
       "       [0.        , 1.        ],\n",
       "       [0.        , 1.        ],\n",
       "       [0.        , 1.        ],\n",
       "       [0.92771084, 0.07228916],\n",
       "       [0.80120482, 0.19879518],\n",
       "       [0.        , 1.        ],\n",
       "       [1.        , 0.        ],\n",
       "       [0.18716578, 0.81283422],\n",
       "       [0.65405405, 0.34594595],\n",
       "       [0.        , 1.        ],\n",
       "       [0.04761905, 0.95238095],\n",
       "       [0.51336898, 0.48663102],\n",
       "       [1.        , 0.        ],\n",
       "       [0.01666667, 0.98333333],\n",
       "       [1.        , 0.        ],\n",
       "       [0.29100529, 0.70899471],\n",
       "       [0.49740933, 0.50259067],\n",
       "       [1.        , 0.        ],\n",
       "       [0.02645503, 0.97354497],\n",
       "       [1.        , 0.        ],\n",
       "       [0.25882353, 0.74117647],\n",
       "       [0.90374332, 0.09625668],\n",
       "       [1.        , 0.        ],\n",
       "       [1.        , 0.        ],\n",
       "       [0.        , 1.        ],\n",
       "       [0.        , 1.        ],\n",
       "       [0.8547486 , 0.1452514 ],\n",
       "       [1.        , 0.        ],\n",
       "       [0.01587302, 0.98412698],\n",
       "       [1.        , 0.        ],\n",
       "       [1.        , 0.        ],\n",
       "       [1.        , 0.        ],\n",
       "       [0.98963731, 0.01036269],\n",
       "       [0.99438202, 0.00561798],\n",
       "       [0.00568182, 0.99431818],\n",
       "       [0.93370166, 0.06629834],\n",
       "       [0.99386503, 0.00613497],\n",
       "       [0.02857143, 0.97142857],\n",
       "       [0.22164948, 0.77835052],\n",
       "       [0.95625   , 0.04375   ],\n",
       "       [0.31088083, 0.68911917],\n",
       "       [0.98913043, 0.01086957],\n",
       "       [0.        , 1.        ],\n",
       "       [0.        , 1.        ],\n",
       "       [0.67261905, 0.32738095],\n",
       "       [0.33980583, 0.66019417],\n",
       "       [0.33516484, 0.66483516],\n",
       "       [0.90526316, 0.09473684],\n",
       "       [0.93264249, 0.06735751],\n",
       "       [0.07070707, 0.92929293],\n",
       "       [0.78089888, 0.21910112],\n",
       "       [0.        , 1.        ],\n",
       "       [0.        , 1.        ],\n",
       "       [0.02439024, 0.97560976],\n",
       "       [0.98895028, 0.01104972],\n",
       "       [0.99418605, 0.00581395],\n",
       "       [1.        , 0.        ],\n",
       "       [0.00518135, 0.99481865],\n",
       "       [0.        , 1.        ],\n",
       "       [0.01025641, 0.98974359],\n",
       "       [0.00568182, 0.99431818],\n",
       "       [1.        , 0.        ],\n",
       "       [1.        , 0.        ],\n",
       "       [0.93333333, 0.06666667],\n",
       "       [1.        , 0.        ],\n",
       "       [1.        , 0.        ],\n",
       "       [1.        , 0.        ],\n",
       "       [0.        , 1.        ],\n",
       "       [0.4057971 , 0.5942029 ],\n",
       "       [0.27513228, 0.72486772],\n",
       "       [0.01104972, 0.98895028],\n",
       "       [0.        , 1.        ],\n",
       "       [0.36746988, 0.63253012],\n",
       "       [1.        , 0.        ],\n",
       "       [0.99425287, 0.00574713],\n",
       "       [0.        , 1.        ],\n",
       "       [1.        , 0.        ],\n",
       "       [0.00555556, 0.99444444],\n",
       "       [0.        , 1.        ],\n",
       "       [0.9950495 , 0.0049505 ],\n",
       "       [0.        , 1.        ],\n",
       "       [0.        , 1.        ],\n",
       "       [1.        , 0.        ],\n",
       "       [0.00995025, 0.99004975],\n",
       "       [0.65934066, 0.34065934],\n",
       "       [0.89304813, 0.10695187],\n",
       "       [0.00568182, 0.99431818],\n",
       "       [0.99421965, 0.00578035],\n",
       "       [1.        , 0.        ],\n",
       "       [1.        , 0.        ],\n",
       "       [0.        , 1.        ],\n",
       "       [0.        , 1.        ],\n",
       "       [1.        , 0.        ],\n",
       "       [0.10179641, 0.89820359],\n",
       "       [1.        , 0.        ],\n",
       "       [0.00613497, 0.99386503],\n",
       "       [0.        , 1.        ],\n",
       "       [1.        , 0.        ],\n",
       "       [0.        , 1.        ],\n",
       "       [0.04568528, 0.95431472],\n",
       "       [1.        , 0.        ],\n",
       "       [0.92265193, 0.07734807],\n",
       "       [0.70103093, 0.29896907],\n",
       "       [0.55555556, 0.44444444],\n",
       "       [0.        , 1.        ],\n",
       "       [0.14210526, 0.85789474],\n",
       "       [1.        , 0.        ],\n",
       "       [0.96315789, 0.03684211],\n",
       "       [0.98351648, 0.01648352],\n",
       "       [1.        , 0.        ],\n",
       "       [0.00531915, 0.99468085],\n",
       "       [0.        , 1.        ],\n",
       "       [0.44324324, 0.55675676],\n",
       "       [0.87234043, 0.12765957],\n",
       "       [0.        , 1.        ],\n",
       "       [0.        , 1.        ],\n",
       "       [0.99393939, 0.00606061],\n",
       "       [0.02259887, 0.97740113],\n",
       "       [0.        , 1.        ],\n",
       "       [0.97752809, 0.02247191],\n",
       "       [0.        , 1.        ],\n",
       "       [0.25945946, 0.74054054],\n",
       "       [0.        , 1.        ],\n",
       "       [1.        , 0.        ],\n",
       "       [0.        , 1.        ],\n",
       "       [0.        , 1.        ],\n",
       "       [0.98395722, 0.01604278],\n",
       "       [0.77647059, 0.22352941],\n",
       "       [0.98863636, 0.01136364],\n",
       "       [0.        , 1.        ],\n",
       "       [0.06185567, 0.93814433],\n",
       "       [0.99415205, 0.00584795],\n",
       "       [0.02617801, 0.97382199],\n",
       "       [0.        , 1.        ],\n",
       "       [0.07734807, 0.92265193],\n",
       "       [1.        , 0.        ],\n",
       "       [0.78333333, 0.21666667],\n",
       "       [0.        , 1.        ],\n",
       "       [0.86010363, 0.13989637],\n",
       "       [0.99494949, 0.00505051],\n",
       "       [0.16      , 0.84      ],\n",
       "       [0.21354167, 0.78645833],\n",
       "       [1.        , 0.        ],\n",
       "       [0.        , 1.        ],\n",
       "       [0.        , 1.        ],\n",
       "       [0.        , 1.        ],\n",
       "       [0.26470588, 0.73529412],\n",
       "       [0.96296296, 0.03703704],\n",
       "       [0.        , 1.        ],\n",
       "       [1.        , 0.        ],\n",
       "       [0.99462366, 0.00537634],\n",
       "       [0.        , 1.        ],\n",
       "       [0.48275862, 0.51724138],\n",
       "       [1.        , 0.        ],\n",
       "       [0.        , 1.        ],\n",
       "       [1.        , 0.        ],\n",
       "       [0.        , 1.        ],\n",
       "       [0.        , 1.        ],\n",
       "       [0.08433735, 0.91566265],\n",
       "       [0.08465608, 0.91534392],\n",
       "       [0.97590361, 0.02409639],\n",
       "       [0.01069519, 0.98930481],\n",
       "       [1.        , 0.        ],\n",
       "       [0.34682081, 0.65317919],\n",
       "       [0.06878307, 0.93121693],\n",
       "       [0.51282051, 0.48717949],\n",
       "       [0.53921569, 0.46078431],\n",
       "       [0.01058201, 0.98941799],\n",
       "       [1.        , 0.        ],\n",
       "       [0.        , 1.        ],\n",
       "       [0.        , 1.        ],\n",
       "       [0.55102041, 0.44897959],\n",
       "       [0.        , 1.        ],\n",
       "       [1.        , 0.        ],\n",
       "       [0.24479167, 0.75520833],\n",
       "       [0.77386935, 0.22613065],\n",
       "       [0.06010929, 0.93989071],\n",
       "       [1.        , 0.        ],\n",
       "       [0.82485876, 0.17514124],\n",
       "       [0.        , 1.        ],\n",
       "       [0.01129944, 0.98870056],\n",
       "       [0.08024691, 0.91975309],\n",
       "       [0.02051282, 0.97948718],\n",
       "       [0.        , 1.        ],\n",
       "       [0.995     , 0.005     ],\n",
       "       [0.88235294, 0.11764706],\n",
       "       [0.18674699, 0.81325301],\n",
       "       [0.96666667, 0.03333333],\n",
       "       [0.00540541, 0.99459459],\n",
       "       [0.64912281, 0.35087719],\n",
       "       [0.10810811, 0.89189189],\n",
       "       [0.98378378, 0.01621622],\n",
       "       [0.79292929, 0.20707071],\n",
       "       [0.        , 1.        ],\n",
       "       [1.        , 0.        ],\n",
       "       [0.97058824, 0.02941176],\n",
       "       [0.        , 1.        ],\n",
       "       [0.        , 1.        ],\n",
       "       [1.        , 0.        ],\n",
       "       [0.        , 1.        ],\n",
       "       [1.        , 0.        ],\n",
       "       [0.25925926, 0.74074074],\n",
       "       [0.99481865, 0.00518135],\n",
       "       [1.        , 0.        ],\n",
       "       [0.        , 1.        ],\n",
       "       [0.00574713, 0.99425287],\n",
       "       [0.83980583, 0.16019417],\n",
       "       [0.        , 1.        ],\n",
       "       [1.        , 0.        ],\n",
       "       [0.76436782, 0.23563218],\n",
       "       [0.94708995, 0.05291005],\n",
       "       [1.        , 0.        ],\n",
       "       [0.71052632, 0.28947368],\n",
       "       [0.51612903, 0.48387097],\n",
       "       [0.        , 1.        ],\n",
       "       [0.87165775, 0.12834225],\n",
       "       [0.        , 1.        ],\n",
       "       [1.        , 0.        ],\n",
       "       [0.87058824, 0.12941176],\n",
       "       [1.        , 0.        ],\n",
       "       [1.        , 0.        ],\n",
       "       [0.75257732, 0.24742268],\n",
       "       [0.10752688, 0.89247312],\n",
       "       [0.43428571, 0.56571429],\n",
       "       [0.24468085, 0.75531915],\n",
       "       [0.        , 1.        ],\n",
       "       [0.9005848 , 0.0994152 ],\n",
       "       [0.83333333, 0.16666667],\n",
       "       [0.00529101, 0.99470899],\n",
       "       [1.        , 0.        ],\n",
       "       [1.        , 0.        ],\n",
       "       [1.        , 0.        ],\n",
       "       [0.        , 1.        ],\n",
       "       [0.025     , 0.975     ],\n",
       "       [0.97674419, 0.02325581],\n",
       "       [0.96273292, 0.03726708],\n",
       "       [1.        , 0.        ],\n",
       "       [0.52083333, 0.47916667],\n",
       "       [1.        , 0.        ],\n",
       "       [0.        , 1.        ],\n",
       "       [0.98412698, 0.01587302],\n",
       "       [0.01595745, 0.98404255],\n",
       "       [1.        , 0.        ],\n",
       "       [1.        , 0.        ],\n",
       "       [1.        , 0.        ],\n",
       "       [0.        , 1.        ],\n",
       "       [0.9556962 , 0.0443038 ],\n",
       "       [0.        , 1.        ],\n",
       "       [0.06214689, 0.93785311],\n",
       "       [0.        , 1.        ],\n",
       "       [0.        , 1.        ],\n",
       "       [1.        , 0.        ],\n",
       "       [1.        , 0.        ],\n",
       "       [0.        , 1.        ],\n",
       "       [0.99421965, 0.00578035],\n",
       "       [0.01785714, 0.98214286],\n",
       "       [1.        , 0.        ],\n",
       "       [0.14835165, 0.85164835],\n",
       "       [0.        , 1.        ],\n",
       "       [0.01604278, 0.98395722],\n",
       "       [0.        , 1.        ],\n",
       "       [0.37640449, 0.62359551],\n",
       "       [0.06593407, 0.93406593],\n",
       "       [0.22994652, 0.77005348],\n",
       "       [1.        , 0.        ],\n",
       "       [0.99441341, 0.00558659],\n",
       "       [0.17837838, 0.82162162],\n",
       "       [0.98830409, 0.01169591],\n",
       "       [0.        , 1.        ],\n",
       "       [0.        , 1.        ],\n",
       "       [1.        , 0.        ],\n",
       "       [0.96216216, 0.03783784],\n",
       "       [0.27011494, 0.72988506],\n",
       "       [1.        , 0.        ],\n",
       "       [1.        , 0.        ],\n",
       "       [0.00520833, 0.99479167],\n",
       "       [0.99428571, 0.00571429],\n",
       "       [0.00571429, 0.99428571],\n",
       "       [0.02173913, 0.97826087],\n",
       "       [0.98994975, 0.01005025],\n",
       "       [1.        , 0.        ],\n",
       "       [0.04081633, 0.95918367],\n",
       "       [0.63243243, 0.36756757]])"
      ]
     },
     "execution_count": 27,
     "metadata": {},
     "output_type": "execute_result"
    }
   ],
   "source": [
    "bag_clf.oob_decision_function_"
   ]
  },
  {
   "cell_type": "markdown",
   "id": "899b39b0",
   "metadata": {},
   "source": [
    "## 랜덤 패치와 랜덤 서브스페이스\n",
    "특성 샘플링을 통해 고차원의 데이터셋을 다룰 때 유용하게 사용할 수 있다.  \n",
    "특히 더 다양한 예측기를 만들 수 있고 편향을 늘리지만 분산을 낮춘다.  \n",
    "max_features, bootstrap_features 두 매개변수로 조절되며 무작위로 선택된 입력 특성의 일부분으로 훈련한다.  \n",
    "만약 샘플과 특성 보두 샘플링하면 랜덤 패치 방식 (random patches method) 이라고 하며  \n",
    "훈련 샘플을 모두 이용하지만 (bootstrap=False, max_samples=1.0) 특성은 샘플링 한다면  \n",
    "랜덤 서브스페이스 방식 (random space method) 이라고 한다.<br>"
   ]
  },
  {
   "cell_type": "markdown",
   "id": "c0d3d916",
   "metadata": {},
   "source": [
    "## 랜덤 포레스트\n",
    "랜덤 포레스트는 일반적인 배깅(or 페이스팅) 을 적용한 DecisionTree 의 앙상블이다.  \n",
    "랜덤 포레스트 알고리즘은 트리의 노드를 분할할 때 전체 특성 중에서 최선의 특성보다는 무작위로 선정된 특성 중에서\n",
    "<br>최적의 특성을 찾는 식으로 무작위성을 더 주입한다. 이로인해 편향에서 손해를 보지만 분산을 낮추어 더 좋은 모델이 탄생.\n",
    "max_samples를 훈련 세트의 크기로 지정한다."
   ]
  },
  {
   "cell_type": "code",
   "execution_count": 28,
   "id": "c72f9a0e",
   "metadata": {
    "ExecuteTime": {
     "end_time": "2022-03-30T07:44:15.587817Z",
     "start_time": "2022-03-30T07:44:15.025081Z"
    }
   },
   "outputs": [
    {
     "name": "stdout",
     "output_type": "stream",
     "text": [
      "0.92\n"
     ]
    }
   ],
   "source": [
    "from sklearn.ensemble import RandomForestClassifier\n",
    "\n",
    "rnd_clf = RandomForestClassifier(n_estimators=500, max_leaf_nodes=16, n_jobs=-1)\n",
    "rnd_clf.fit(X_train,y_train)\n",
    "\n",
    "y_pred_rf = rnd_clf.predict(X_test)\n",
    "print(accuracy_score(y_test, y_pred_rf))"
   ]
  },
  {
   "cell_type": "markdown",
   "id": "bfeed8fc",
   "metadata": {},
   "source": [
    " ### 엑스트라 트리\n",
    " 각 노드는 무작위로 특성의 서브셋을 만들지만 더한 무작위성을 위하여 최적의 임곗값을 찾기보다  \n",
    " 후보 특성을 사용해 무작위로 분할한 다음 그 중에서 최상의 분할을 선택한다.  \n",
    " 이와 같은 극단적인 무작위성을 가진 랜덤 포레스트를 ***익스트림 랜덤 트리, 엑스트라 트리*** 라고 부른다."
   ]
  },
  {
   "cell_type": "code",
   "execution_count": 29,
   "id": "afc5a977",
   "metadata": {
    "ExecuteTime": {
     "end_time": "2022-03-30T07:44:15.602769Z",
     "start_time": "2022-03-30T07:44:15.590808Z"
    }
   },
   "outputs": [],
   "source": [
    "from sklearn.ensemble import ExtraTreesClassifier # RandomForestClassifier 와 사용법은 동일\n",
    "from sklearn.ensemble import ExtraTreesRegressor  # RandomForestRegressor 와 사용법은 동일"
   ]
  },
  {
   "cell_type": "markdown",
   "id": "35bb8d30",
   "metadata": {},
   "source": [
    "### 특성 중요도\n",
    "랜덤 포레스트는 특성의 상대적 중요도를 파악하기가 용이하다.  \n",
    "사이킷런의 랜덤 포레스트는 어떤 특성을 사용한 노드가 불순도를 얼마나 감소시키는지 확인하여 특성의 중요도를 측정한다.<br>\n",
    "더 정확히 말하면 가중치 평균이며 각 노드의 가중치는 연관된 훈련 샘플 수와 같다.  \n",
    "사이킷런은 훈련이 끝난 뒤 특성마다 자동으로 이 점수를 계산하고 중요도 전체 합이 1이 되도록 정규화를 진행한다."
   ]
  },
  {
   "cell_type": "code",
   "execution_count": 30,
   "id": "2b69ca80",
   "metadata": {
    "ExecuteTime": {
     "end_time": "2022-03-30T07:44:16.238150Z",
     "start_time": "2022-03-30T07:44:15.604761Z"
    }
   },
   "outputs": [
    {
     "name": "stdout",
     "output_type": "stream",
     "text": [
      "sepal length (cm) 0.11249225099876375\n",
      "sepal width (cm) 0.02311928828251033\n",
      "petal length (cm) 0.4410304643639577\n",
      "petal width (cm) 0.4233579963547682\n"
     ]
    }
   ],
   "source": [
    "from sklearn.datasets import load_iris\n",
    "\n",
    "iris = load_iris()\n",
    "rnd_clf = RandomForestClassifier(n_estimators=500, random_state=42)\n",
    "rnd_clf.fit(iris[\"data\"], iris[\"target\"])\n",
    "for name, score in zip(iris[\"feature_names\"], rnd_clf.feature_importances_):\n",
    "    print(name, score)"
   ]
  },
  {
   "cell_type": "markdown",
   "id": "2e996ec2",
   "metadata": {},
   "source": [
    "## 부스팅\n",
    "성능이 약한 학습기를 여러 개 연결하여 강한 학습기를 만드는 앙상블 학습을 부스팅이라고 한다.  \n",
    "앞의 모델을 보완해 나가면서 전체적인 예측기를 학습시키는 것인데 에이다 부스트와 그레디언트 부스트가 있다."
   ]
  },
  {
   "cell_type": "markdown",
   "id": "e1417450",
   "metadata": {},
   "source": [
    "### 에이다부스트\n",
    "이전 모델이 과소적합됬던 훈련 샘플의 가중치를 높인다면 문제점을 보완해 나갈 수 있다.  \n",
    "경사 하강법과 비슷해보이지만 에이다부스트는 비용 함수를 최소화하기 위해 파라미터를 조절하기보단,  \n",
    "틀린 샘플의 가중치가 높아진 예측기를 모델에 추가함으로써 보완해 나간다.  \n",
    "<br>\n",
    "우선 각 샘플 가중치 $w^{(i)} 는 초기에 \\frac{1}{m}$ 으로 초기화 되어있다.  \n",
    "그리고 j번째 예측기의 각 가중치를 이용한 예측기의 에러율 $r_{j}$는 다음과 같이 계산된다.<br>\n",
    "\\begin{equation}\n",
    "    r_{j} = \\frac{\\sum^{m}_{i=1}w^{(i)}\\; (where\\; \\hat{y}_{j}^{(i)} \\neq y^{(i)})}{\\sum^{m}_{i=1}w^{(i)}}\n",
    "\\end{equation}<br>\n",
    "즉, 전체 가중치에 대한 오답이 발생한 샘플의 가중치 비율이 j번째 예측기에 대한 에러율이 된다.  \n",
    "그리고 j번째 예측기의 가중치 $\\alpha_{j}$는 이 에러율을 이용하여 계산된다.\n",
    "\\begin{equation}\n",
    "    \\alpha_{j}=\\eta\\log{\\frac{1-{r_{j}}}{r_{j}}}\n",
    "\\end{equation}\n",
    " 그다음 에이다부스트 알고리즘이 다음 식을 이용하여 i번째 샘플의 샘플의 가중치를 업데이트한다.\n",
    " \\begin{equation}\n",
    "     w^{(i)}=\n",
    "     \\begin{cases}\n",
    "         w^{(i)}\\; (where\\; \\hat{y}_{j}^{(i)} = y^{(i)})\\\\\n",
    "         w^{(i)}exp(\\alpha_{j})\\; (where\\; \\hat{y}_{j}^{(i)} \\neq y^{(i)})\n",
    "     \\end{cases}\n",
    " \\end{equation}<br>\n",
    " 그런 다음 모든 샘플의 가중치를 정규화 하기 위하여 $\\sum^{m}_{i=1}w^{(i)}$ 으로 나눈다.\n",
    " <br>\n",
    " 이 과정을 전체 예측기의 개수가 지정한 개수에 도달할 때 혹은 완벽한 예측기가 만들어 질 때 까지 반복한다.  \n",
    " 예측을 할 때는 단순히 모든 예측기의 예측을 계산하고 예측기의 가중치 $\\alpha_{j}$를 더하여 구한다.  \n",
    " 이중 최대값을 가지는 클래스를 선택함으로써 예측과정을 마무리 한다.\n",
    " \\begin{equation}\n",
    "     \\hat{y}(x) = \\textrm{argmax}_{k} \\sum^{N}_{j=1}\\alpha_{j} \\;(where\\; \\hat{y}(x)=k)\n",
    " \\end{equation}"
   ]
  },
  {
   "cell_type": "code",
   "execution_count": 31,
   "id": "0177e2f8",
   "metadata": {
    "ExecuteTime": {
     "end_time": "2022-03-30T07:44:16.455423Z",
     "start_time": "2022-03-30T07:44:16.241140Z"
    }
   },
   "outputs": [
    {
     "data": {
      "text/plain": [
       "AdaBoostClassifier(base_estimator=DecisionTreeClassifier(max_depth=1),\n",
       "                   learning_rate=0.5, n_estimators=200)"
      ]
     },
     "execution_count": 31,
     "metadata": {},
     "output_type": "execute_result"
    }
   ],
   "source": [
    "from sklearn.ensemble import AdaBoostClassifier\n",
    "\n",
    "ada_clf = AdaBoostClassifier(DecisionTreeClassifier(max_depth=1),\n",
    "                             n_estimators=200,\n",
    "                             algorithm=\"SAMME.R\",\n",
    "                             learning_rate=0.5)\n",
    "# 사이킷런에서는 SAMME 라는 에이다부스트의 다중 클래스 버전을 이용한다.\n",
    "# 만약 클래스의 확률을 추정할 수 있다면 (predict_proba()) SAMME.R 을 이용 가능하며 성능이 일반적으로 좋다.\n",
    "\n",
    "ada_clf.fit(X_train, y_train)"
   ]
  },
  {
   "cell_type": "markdown",
   "id": "b8ebc01e",
   "metadata": {},
   "source": [
    "### 그레디언트 부스팅\n",
    "에이다부스팅과 마찬가지로 이전까지의 오차를 보정하도록 예측기를 순차적으로 추가하지만  \n",
    "샘플의 가중치 대신, 이전 예측가 마든 잔여 오차(residual error)에 새로운 예측기를 학습시킨다.  \n",
    "(참고로 모집단에서 얻은 회귀식으로 낸 예측값과 실제값의 차이가 오차이고 표본에서 얻었다면 잔차가 된다)  "
   ]
  },
  {
   "cell_type": "code",
   "execution_count": 32,
   "id": "27fa6650",
   "metadata": {
    "ExecuteTime": {
     "end_time": "2022-03-30T07:44:16.470373Z",
     "start_time": "2022-03-30T07:44:16.457416Z"
    }
   },
   "outputs": [],
   "source": [
    "np.random.seed(42)\n",
    "X = np.random.rand(100, 1) - 0.5\n",
    "y = 3*X[:, 0]**2 + 0.05 * np.random.randn(100)"
   ]
  },
  {
   "cell_type": "code",
   "execution_count": 33,
   "id": "b7bb63e2",
   "metadata": {
    "ExecuteTime": {
     "end_time": "2022-03-30T07:44:16.485322Z",
     "start_time": "2022-03-30T07:44:16.472366Z"
    }
   },
   "outputs": [
    {
     "data": {
      "text/plain": [
       "array([0.75026781])"
      ]
     },
     "execution_count": 33,
     "metadata": {},
     "output_type": "execute_result"
    }
   ],
   "source": [
    "from sklearn.tree import DecisionTreeRegressor\n",
    "\n",
    "tree_reg1 = DecisionTreeRegressor(max_depth=2)\n",
    "tree_reg1.fit(X, y)\n",
    "y2 = y - tree_reg1.predict(X) # 정답과 예측값의 차이를 y2에 저장한다.\n",
    "\n",
    "tree_reg2 = DecisionTreeRegressor(max_depth=2)\n",
    "tree_reg2.fit(X, y2) # 다음 예측기는 이전 예측기의 잔차를 학습한다.\n",
    "y3 = y2 - tree_reg2.predict(X) # 또다시 발생한 잔차를 저장해주고...\n",
    "\n",
    "tree_reg3 = DecisionTreeRegressor(max_depth=2)\n",
    "tree_reg3.fit(X, y3) # 계속해서 이전 예측기의 잔차를 학습시키자.\n",
    "\n",
    "X_new = np.array([[0.8]])\n",
    "y_pred = sum(tree.predict(X_new) for tree in (tree_reg1, tree_reg2, tree_reg3))\n",
    "y_pred"
   ]
  },
  {
   "cell_type": "code",
   "execution_count": 34,
   "id": "03e977ef",
   "metadata": {
    "ExecuteTime": {
     "end_time": "2022-03-30T07:44:16.547116Z",
     "start_time": "2022-03-30T07:44:16.487316Z"
    }
   },
   "outputs": [
    {
     "data": {
      "text/plain": [
       "GradientBoostingRegressor(max_depth=2, n_estimators=200)"
      ]
     },
     "execution_count": 34,
     "metadata": {},
     "output_type": "execute_result"
    }
   ],
   "source": [
    "# 그레디언트부스트는 사이킷런에 이미 구현되어있다.\n",
    "# DecisionTree와 같은 파라미터가 존재한다.\n",
    "from sklearn.ensemble import GradientBoostingRegressor\n",
    "\n",
    "gbrt = GradientBoostingRegressor(max_depth=2,\n",
    "                                 n_estimators=200,\n",
    "                                 learning_rate=0.1)\n",
    "\n",
    "# 참고로 학습률이 적을수록 많은 트리가 필요하지만 성능이 좋아진다.\n",
    "\n",
    "gbrt.fit(X, y)"
   ]
  },
  {
   "cell_type": "markdown",
   "id": "c03b3ea3",
   "metadata": {},
   "source": [
    "조기 종료를 이용하여 최적의 트리의 수를 찾을 수 있다.  \n",
    "간단하게 staged_predict() 메서드를 이용하면 훈련의 각 단계에서 만들어진 예측기를 순회하는 iterator를 반환한다.  \n",
    "아래 코드는 120개의 트리로 GBRT를 훈련시키고 최적의 트리수를 찾기 위해 검증 오차를 측정한다."
   ]
  },
  {
   "cell_type": "code",
   "execution_count": 35,
   "id": "1dace775",
   "metadata": {
    "ExecuteTime": {
     "end_time": "2022-03-30T07:44:16.625851Z",
     "start_time": "2022-03-30T07:44:16.549108Z"
    }
   },
   "outputs": [
    {
     "data": {
      "text/plain": [
       "GradientBoostingRegressor(max_depth=2, n_estimators=56, random_state=42)"
      ]
     },
     "execution_count": 35,
     "metadata": {},
     "output_type": "execute_result"
    }
   ],
   "source": [
    "import numpy as np\n",
    "from sklearn.model_selection import train_test_split\n",
    "from sklearn.metrics import mean_squared_error\n",
    "\n",
    "X_train, X_val, y_train, y_val = train_test_split(X, y, random_state=49)\n",
    "\n",
    "gbrt = GradientBoostingRegressor(max_depth=2,\n",
    "                                 n_estimators=120,\n",
    "                                 random_state=42)\n",
    "gbrt.fit(X_train, y_train)\n",
    "\n",
    "errors = [\n",
    "    mean_squared_error(y_val, y_pred) for y_pred in gbrt.staged_predict(X_val)\n",
    "]\n",
    "bst_n_estimators = np.argmin(errors) + 1\n",
    "\n",
    "gbrt_best = GradientBoostingRegressor(max_depth=2,\n",
    "                                      n_estimators=bst_n_estimators,\n",
    "                                      random_state=42)\n",
    "gbrt_best.fit(X_train, y_train)"
   ]
  },
  {
   "cell_type": "code",
   "execution_count": 36,
   "id": "b8e04f8f",
   "metadata": {
    "ExecuteTime": {
     "end_time": "2022-03-30T07:44:16.889969Z",
     "start_time": "2022-03-30T07:44:16.626848Z"
    }
   },
   "outputs": [
    {
     "data": {
      "image/png": "[encoded data removed]",
      "text/plain": [
       "<Figure size 1000x400 with 2 Axes>"
      ]
     },
     "metadata": {},
     "output_type": "display_data"
    }
   ],
   "source": [
    "def plot_predictions(regressors,\n",
    "                     X,\n",
    "                     y,\n",
    "                     axes,\n",
    "                     label=None,\n",
    "                     style=\"r-\",\n",
    "                     data_style=\"b.\",\n",
    "                     data_label=None):\n",
    "    x1 = np.linspace(axes[0], axes[1], 500)\n",
    "    y_pred = sum(\n",
    "        regressor.predict(x1.reshape(-1, 1)) for regressor in regressors)\n",
    "    plt.plot(X[:, 0], y, data_style, label=data_label)\n",
    "    plt.plot(x1, y_pred, style, linewidth=2, label=label)\n",
    "    if label or data_label:\n",
    "        plt.legend(loc=\"upper center\", fontsize=16)\n",
    "    plt.axis(axes)\n",
    "\n",
    "\n",
    "min_error = np.min(errors)\n",
    "plt.figure(figsize=(10, 4))\n",
    "\n",
    "plt.subplot(121)\n",
    "plt.plot(np.arange(1, len(errors) + 1), errors, \"b.-\")\n",
    "plt.plot([bst_n_estimators, bst_n_estimators], [0, min_error], \"k--\")\n",
    "plt.plot([0, 120], [min_error, min_error], \"k--\")\n",
    "plt.plot(bst_n_estimators, min_error, \"ko\")\n",
    "plt.text(bst_n_estimators,\n",
    "         min_error * 1.2,\n",
    "         \"Minimum\",\n",
    "         ha=\"center\",\n",
    "         fontsize=14)\n",
    "plt.axis([0, 120, 0, 0.01])\n",
    "plt.xlabel(\"Number of trees\")\n",
    "plt.ylabel(\"Error\", fontsize=16)\n",
    "plt.title(\"Validation error\", fontsize=14)\n",
    "\n",
    "plt.subplot(122)\n",
    "plot_predictions([gbrt_best], X, y, axes=[-0.5, 0.5, -0.1, 0.8])\n",
    "plt.title(\"Best model (%d trees)\" % bst_n_estimators, fontsize=14)\n",
    "plt.ylabel(\"$y$\", fontsize=16, rotation=0)\n",
    "plt.xlabel(\"$x_1$\", fontsize=16)\n",
    "\n",
    "plt.show()"
   ]
  },
  {
   "cell_type": "markdown",
   "id": "99855ff9",
   "metadata": {},
   "source": [
    "여기서는 120개의 트리를 훈련시키고 최적의 수를 찾았지만 실제로 훈련을 중지시키는 방식도 있다.  \n",
    "warm_start를 True로 두면 사이킷런이 fit()을 실행할 때 기존 트리를 유지시키며 훈련을 진행한다.  \n",
    "이때 검증 오차가 향상되지 않으면 훈련을 종료시킴으로서 조기 종료를 구현한다."
   ]
  },
  {
   "cell_type": "code",
   "execution_count": 37,
   "id": "d62407ba",
   "metadata": {
    "ExecuteTime": {
     "end_time": "2022-03-30T11:58:08.455700Z",
     "start_time": "2022-03-30T11:58:08.411707Z"
    }
   },
   "outputs": [
    {
     "name": "stdout",
     "output_type": "stream",
     "text": [
      "61\n"
     ]
    }
   ],
   "source": [
    "gbrt = GradientBoostingRegressor(max_depth=2, warm_start=True, random_state=42)\n",
    "\n",
    "min_val_error = float(\"inf\")\n",
    "error_going_up = 0\n",
    "for n_estimators in range(1, 120):\n",
    "    gbrt.n_estimators = n_estimators\n",
    "    gbrt.fit(X_train, y_train)\n",
    "    y_pred = gbrt.predict(X_val)\n",
    "    val_error = mean_squared_error(y_val, y_pred)\n",
    "    if val_error < min_val_error: # 오차가 향상된다면 error_going_up을 줄여준다.\n",
    "        min_val_error = val_error\n",
    "        error_going_up = 0\n",
    "    else:\n",
    "        error_going_up += 1 # 오차가 향상되지 않는다면 error_going_up을 하나 늘려준다.\n",
    "        if error_going_up == 5: # 만약 5번 향상되지 않았다면 조기종료\n",
    "            break  # early stopping\n",
    "\n",
    "print(gbrt.n_estimators)"
   ]
  }
 ],
 "metadata": {
  "kernelspec": {
   "display_name": "Python 3 (ipykernel)",
   "language": "python",
   "name": "python3"
  },
  "language_info": {
   "codemirror_mode": {
    "name": "ipython",
    "version": 3
   },
   "file_extension": ".py",
   "mimetype": "text/x-python",
   "name": "python",
   "nbconvert_exporter": "python",
   "pygments_lexer": "ipython3",
   "version": "3.9.7"
  },
  "toc": {
   "base_numbering": 1,
   "nav_menu": {},
   "number_sections": true,
   "sideBar": true,
   "skip_h1_title": false,
   "title_cell": "Table of Contents",
   "title_sidebar": "Contents",
   "toc_cell": false,
   "toc_position": {},
   "toc_section_display": true,
   "toc_window_display": true
  }
 },
 "nbformat": 4,
 "nbformat_minor": 5
}
